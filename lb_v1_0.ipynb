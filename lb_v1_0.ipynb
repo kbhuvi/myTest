{
  "nbformat": 4,
  "nbformat_minor": 0,
  "metadata": {
    "colab": {
      "provenance": [],
      "authorship_tag": "ABX9TyPyoCTYBXS09R9MioCiP4jV",
      "include_colab_link": true
    },
    "kernelspec": {
      "name": "python3",
      "display_name": "Python 3"
    },
    "language_info": {
      "name": "python"
    }
  },
  "cells": [
    {
      "cell_type": "markdown",
      "metadata": {
        "id": "view-in-github",
        "colab_type": "text"
      },
      "source": [
        "<a href=\"https://colab.research.google.com/github/kbhuvi/myTest/blob/master/lb_v1_0.ipynb\" target=\"_parent\"><img src=\"https://colab.research.google.com/assets/colab-badge.svg\" alt=\"Open In Colab\"/></a>"
      ]
    },
    {
      "cell_type": "code",
      "execution_count": null,
      "metadata": {
        "id": "GJMrupVe0Z6i"
      },
      "outputs": [],
      "source": [
        "#from google.colab import drive\n",
        "#drive.mount('/content/drive')"
      ]
    },
    {
      "cell_type": "code",
      "source": [
        "#%cd /content/drive/My Drive/lb_digital/\n"
      ],
      "metadata": {
        "id": "CioRNRx21t-C"
      },
      "execution_count": null,
      "outputs": []
    },
    {
      "cell_type": "markdown",
      "source": [
        "# Introduction:\n",
        "This colab notebook outlines the logic and explanation on approach to develop a simple product recommendation algorithm using co-purchase frequency."
      ],
      "metadata": {
        "id": "edAGlNPqyAZ0"
      }
    },
    {
      "cell_type": "markdown",
      "source": [
        "# Tools and Technology:\n",
        "Pyspark : Pyspark - python API for spark, offers quick data processing on very large datasets while providing the advantage of python programming.Spark’s in-memory data engine enables faster data processing and pyspark's advance Machine Learning offerings can help with extending this basic version to sophisticated version serving ML models to implement this algorithm."
      ],
      "metadata": {
        "id": "C2_ts_N0ynz4"
      }
    },
    {
      "cell_type": "code",
      "source": [
        "# Install pyspark\n",
        "!pip install pyspark"
      ],
      "metadata": {
        "colab": {
          "base_uri": "https://localhost:8080/"
        },
        "id": "ITXZ3HHB2ITO",
        "outputId": "4eb5bacd-6485-4c2d-c715-ac0b3300fad4"
      },
      "execution_count": null,
      "outputs": [
        {
          "output_type": "stream",
          "name": "stdout",
          "text": [
            "Looking in indexes: https://pypi.org/simple, https://us-python.pkg.dev/colab-wheels/public/simple/\n",
            "Collecting pyspark\n",
            "  Downloading pyspark-3.3.1.tar.gz (281.4 MB)\n",
            "\u001b[2K     \u001b[90m━━━━━━━━━━━━━━━━━━━━━━━━━━━━━━━━━━━━━━━\u001b[0m \u001b[32m281.4/281.4 MB\u001b[0m \u001b[31m4.6 MB/s\u001b[0m eta \u001b[36m0:00:00\u001b[0m\n",
            "\u001b[?25h  Preparing metadata (setup.py) ... \u001b[?25l\u001b[?25hdone\n",
            "Collecting py4j==0.10.9.5\n",
            "  Downloading py4j-0.10.9.5-py2.py3-none-any.whl (199 kB)\n",
            "\u001b[2K     \u001b[90m━━━━━━━━━━━━━━━━━━━━━━━━━━━━━━━━━━━━━━\u001b[0m \u001b[32m199.7/199.7 KB\u001b[0m \u001b[31m19.9 MB/s\u001b[0m eta \u001b[36m0:00:00\u001b[0m\n",
            "\u001b[?25hBuilding wheels for collected packages: pyspark\n",
            "  Building wheel for pyspark (setup.py) ... \u001b[?25l\u001b[?25hdone\n",
            "  Created wheel for pyspark: filename=pyspark-3.3.1-py2.py3-none-any.whl size=281845512 sha256=211fa90dd6c8afc1129f8e93e9aa0469b883c1c19d6079dc92175f9fa48c3071\n",
            "  Stored in directory: /root/.cache/pip/wheels/43/dc/11/ec201cd671da62fa9c5cc77078235e40722170ceba231d7598\n",
            "Successfully built pyspark\n",
            "Installing collected packages: py4j, pyspark\n",
            "Successfully installed py4j-0.10.9.5 pyspark-3.3.1\n"
          ]
        }
      ]
    },
    {
      "cell_type": "markdown",
      "source": [
        "Create a new spark session with Spark master URL to run locally with any number of cores available.\n",
        "\n"
      ],
      "metadata": {
        "id": "wb0DYT8Y1Isd"
      }
    },
    {
      "cell_type": "code",
      "source": [
        "# Import SparkSession\n",
        "from pyspark.sql import SparkSession\n",
        "# Create a Spark Session\n",
        "spark = SparkSession.builder.master(\"local[*]\").getOrCreate()\n",
        "# Check Spark Session Information\n",
        "spark\n"
      ],
      "metadata": {
        "colab": {
          "base_uri": "https://localhost:8080/",
          "height": 221
        },
        "id": "_O9LnDfz2X_S",
        "outputId": "ed2d8e9f-9fb7-4695-b2c7-30489ff29e1b"
      },
      "execution_count": null,
      "outputs": [
        {
          "output_type": "execute_result",
          "data": {
            "text/plain": [
              "<pyspark.sql.session.SparkSession at 0x7fbc413a12e0>"
            ],
            "text/html": [
              "\n",
              "            <div>\n",
              "                <p><b>SparkSession - in-memory</b></p>\n",
              "                \n",
              "        <div>\n",
              "            <p><b>SparkContext</b></p>\n",
              "\n",
              "            <p><a href=\"http://decefc9080df:4040\">Spark UI</a></p>\n",
              "\n",
              "            <dl>\n",
              "              <dt>Version</dt>\n",
              "                <dd><code>v3.3.1</code></dd>\n",
              "              <dt>Master</dt>\n",
              "                <dd><code>local[*]</code></dd>\n",
              "              <dt>AppName</dt>\n",
              "                <dd><code>pyspark-shell</code></dd>\n",
              "            </dl>\n",
              "        </div>\n",
              "        \n",
              "            </div>\n",
              "        "
            ]
          },
          "metadata": {},
          "execution_count": 6
        }
      ]
    },
    {
      "cell_type": "code",
      "source": [
        "# Import a Spark function from library\n",
        "from pyspark.sql.functions import col\n",
        "from pyspark.sql.functions import array_contains\n",
        "from pyspark.sql.functions import count\n",
        "from pyspark.sql.functions import size\n",
        "from pyspark.sql.functions import explode\n",
        "from pyspark.sql.functions import concat_ws"
      ],
      "metadata": {
        "id": "mTI3bL6c2jro"
      },
      "execution_count": null,
      "outputs": []
    },
    {
      "cell_type": "markdown",
      "source": [
        "Spark SQL provides functionality to read a  JSON file into Spark DataFrame. Once the data is loaded to data frame, data processing becomes quick and easy."
      ],
      "metadata": {
        "id": "wfDMsl4Q2poZ"
      }
    },
    {
      "cell_type": "code",
      "source": [
        "df = spark.read.json(\"transactions.txt\")"
      ],
      "metadata": {
        "id": "uZ8kcs_L2mw1"
      },
      "execution_count": null,
      "outputs": []
    },
    {
      "cell_type": "code",
      "source": [
        "df.printSchema() #Infer schema"
      ],
      "metadata": {
        "colab": {
          "base_uri": "https://localhost:8080/"
        },
        "id": "iVwg1HGT_x-e",
        "outputId": "d4679e3f-bdea-4aa7-d784-549f9f97dfa0"
      },
      "execution_count": null,
      "outputs": [
        {
          "output_type": "stream",
          "name": "stdout",
          "text": [
            "root\n",
            " |-- customer: long (nullable = true)\n",
            " |-- date: string (nullable = true)\n",
            " |-- itemList: array (nullable = true)\n",
            " |    |-- element: struct (containsNull = true)\n",
            " |    |    |-- item: string (nullable = true)\n",
            " |    |    |-- price: double (nullable = true)\n",
            " |    |    |-- quantity: double (nullable = true)\n",
            " |-- store: string (nullable = true)\n",
            "\n"
          ]
        }
      ]
    },
    {
      "cell_type": "code",
      "source": [
        "print((df.count(), len(df.columns)))\n"
      ],
      "metadata": {
        "colab": {
          "base_uri": "https://localhost:8080/"
        },
        "id": "KT2gE3ym20af",
        "outputId": "8fb6d93e-9875-4066-b1d9-ccc6128a9f27"
      },
      "execution_count": null,
      "outputs": [
        {
          "output_type": "stream",
          "name": "stdout",
          "text": [
            "(1377443, 4)\n"
          ]
        }
      ]
    },
    {
      "cell_type": "markdown",
      "source": [
        "Below cell will read the product tsv file to a dataframe. This will be used later to map the product code with product name."
      ],
      "metadata": {
        "id": "sF2ZcLCK28SN"
      }
    },
    {
      "cell_type": "code",
      "source": [
        "prd_df = spark.read.option(\"header\",\"false\").option(\"sep\", \"\\t\").option(\"multiLine\", \"true\").option(\"quote\",\"\\\"\").option(\"escape\",\"\\\"\").option(\"ignoreTrailingWhiteSpace\", True).csv(\"products.txt\")\n",
        "prd_df = prd_df.toDF('product', 'product_code', 'product_name')\n"
      ],
      "metadata": {
        "id": "8US66Cjx_DRK"
      },
      "execution_count": null,
      "outputs": []
    },
    {
      "cell_type": "markdown",
      "source": [
        "One observation here is the product name contains special characters like commas and hyphen. This might require some additional handling to avoid formatting errors."
      ],
      "metadata": {
        "id": "s3JVz8-g3Ld3"
      }
    },
    {
      "cell_type": "code",
      "source": [
        "prd_df.show()"
      ],
      "metadata": {
        "colab": {
          "base_uri": "https://localhost:8080/"
        },
        "id": "pWQnTC4hO_33",
        "outputId": "8b494f7b-105a-45c4-ed61-1bd4b6864470"
      },
      "execution_count": null,
      "outputs": [
        {
          "output_type": "stream",
          "name": "stdout",
          "text": [
            "+--------------+------------+--------------------+\n",
            "|       product|product_code|        product_name|\n",
            "+--------------+------------+--------------------+\n",
            "|   20000002_EA|   M10210701|Tuna Chunks in Broth|\n",
            "|   20000005_EA|   M02270201|Fresh-Pressed Swe...|\n",
            "|   20000053_EA|   M10210901|French Dijon Mustard|\n",
            "|20000056001_KG|   M02270304|     Anaheim Peppers|\n",
            "|   20000068_KG|   M05350101|        Swiss Cheese|\n",
            "|   20000086_KG|   M10240102|       Juice Berries|\n",
            "|   20000093_EA|   M10220203|Probiotic Yogurt,...|\n",
            "|   20000100_EA|   M10210602|Ground Mexican Ch...|\n",
            "|   20000104_EA|   M10230202|       Broccoli Cuts|\n",
            "|   20000128_EA|   M10211103|Fibro-Contact Refill|\n",
            "|   20000151_EA|   M10250119|Genius Kids & Tee...|\n",
            "|   20000160_EA|   M05350101|               Basil|\n",
            "|   20000165_KG|   M11320103|Shrimp, Fresh Peeled|\n",
            "|20000172001_EA|   M10210303|   Fruit Punch Drink|\n",
            "|20000172002_EA|   M10210303|         Peach Drink|\n",
            "|   20000177_EA|   M10210901|Creamy Horseradis...|\n",
            "|20000207001_EA|   M10211001|Extra Light Olive...|\n",
            "|20000207002_EA|   M10211001|           Olive Oil|\n",
            "|   20000211_EA|   M10390301|   Cartridge Refills|\n",
            "|   20000213_EA|   M10250113|Essential Oil, Eu...|\n",
            "+--------------+------------+--------------------+\n",
            "only showing top 20 rows\n",
            "\n"
          ]
        }
      ]
    },
    {
      "cell_type": "code",
      "source": [
        "print((prd_df.count(), len(prd_df.columns)))\n"
      ],
      "metadata": {
        "colab": {
          "base_uri": "https://localhost:8080/"
        },
        "id": "xKrJlk1y_bnX",
        "outputId": "be959448-0ace-4c6a-cce0-ab2b64a8a532"
      },
      "execution_count": null,
      "outputs": [
        {
          "output_type": "stream",
          "name": "stdout",
          "text": [
            "(70771, 3)\n"
          ]
        }
      ]
    },
    {
      "cell_type": "code",
      "source": [
        "df_subset = df.filter(array_contains(df.itemList.item,'20592676_EA'))"
      ],
      "metadata": {
        "id": "x3yIIyn9_2dW"
      },
      "execution_count": null,
      "outputs": []
    },
    {
      "cell_type": "code",
      "source": [
        "print((df_subset.count(), len(df_subset.columns)))\n"
      ],
      "metadata": {
        "colab": {
          "base_uri": "https://localhost:8080/"
        },
        "id": "MIndi3JBAL9U",
        "outputId": "0762c727-a07b-400b-a1fb-4e0a41e64467"
      },
      "execution_count": null,
      "outputs": [
        {
          "output_type": "stream",
          "name": "stdout",
          "text": [
            "(596, 4)\n"
          ]
        }
      ]
    },
    {
      "cell_type": "markdown",
      "source": [
        "# Baseline recommendation Algorithm using co-purchase frequency:\n",
        "The approach here is to \n",
        "\n",
        "1.   Filter records for specific product purchase from transaction\n",
        "Consider the list of items under itemList column\n",
        "2.   Above step will eliminate other rows and only present the transactions with list of items purchased  along with the item of interest.\n",
        "3.   Next step is to explode the item array , group by each item and find count of each item across the filtered set of transactions.This count gives the count of occurence of the item in the filtered set of trasactions.\n",
        "4.   Next sort the dataset using item count in descending order, exclude the item for which co-purchase frequency is calculated and return the top 5/ n rows.\n",
        "5.   Only the top n item codes are required from this function which will be used later to find the list of product names."
      ],
      "metadata": {
        "id": "OVSdAbvi_3iu"
      }
    },
    {
      "cell_type": "code",
      "source": [
        "def find_top_n_co_purchase_product(df,item_code,n=5):\n",
        "  #filter transaction dataframe to only include rows with given item code\n",
        "  df_subset = df.filter(array_contains(df.itemList.item,item_code))\n",
        "  #select the column of interest \n",
        "  items = df_subset.select(\"itemList.item\")\n",
        "  #Ensure transaction rows where only this one item was purchased\n",
        "  #items = items.withColumn(\"item_count\",size(col('item'))).filter(col(\"item_count\") > 1)\n",
        "  #Explode the dataframe \n",
        "  items_explode = items.select(\"*\",explode(items['item']).alias(\"value\"))\n",
        "  final_items = items_explode.groupBy(\"value\").agg(count(\"*\").alias(\"count\"))\n",
        "  top_n_result = final_items.sort([\"count\"], ascending=[False]).select(\"*\").filter(col('value').isin([item_code]) == False).head(n)\n",
        "  print(top_n_result)\n",
        "  top_n_values = [ ele.__getattr__('value') for ele in top_n_result]\n",
        "  return top_n_values\n"
      ],
      "metadata": {
        "id": "tgrco-6XDKsx"
      },
      "execution_count": null,
      "outputs": []
    },
    {
      "cell_type": "markdown",
      "source": [
        "Below logic to is build a lookup logic to find the product names associated with the item code.\n",
        "As mentioned earlier, product names might contain special characters and below function takes care of handling commas."
      ],
      "metadata": {
        "id": "30dP4Ds878UA"
      }
    },
    {
      "cell_type": "code",
      "source": [
        "def lookup_product(prd_df,item_arr):\n",
        "    products = []\n",
        "    for item in item_arr:\n",
        "      products.append(prd_df.filter(col(\"product\")==item).select(\"product_name\").head())\n",
        "    top_n_products = [ ele.__getattr__('product_name').replace(\",\", \"\") for ele in products]\n",
        "    return top_n_products"
      ],
      "metadata": {
        "id": "bWABJf4EOk2v"
      },
      "execution_count": null,
      "outputs": []
    },
    {
      "cell_type": "markdown",
      "source": [
        "The cells below calls the function cretead above to display the top 5 co-purchased products for item code \"20592676_EA\" and \"20801754003_C15\""
      ],
      "metadata": {
        "id": "LBvJc-S08Slm"
      }
    },
    {
      "cell_type": "code",
      "source": [
        "top_n_items_20592676_EA = find_top_n_co_purchase_product(df,'20592676_EA')\n",
        "print(top_n_items_20592676_EA)\n",
        "top_n_products_20592676_EA = lookup_product(prd_df,top_n_items_20592676_EA)\n",
        "print(top_n_products_20592676_EA)\n"
      ],
      "metadata": {
        "colab": {
          "base_uri": "https://localhost:8080/"
        },
        "id": "4ASEoJEeH6TF",
        "outputId": "100bbbdc-d46b-46b6-eceb-f808c2505372"
      },
      "execution_count": null,
      "outputs": [
        {
          "output_type": "stream",
          "name": "stdout",
          "text": [
            "[Row(value='20189092_EA', count=193), Row(value='20379763_EA', count=96), Row(value='20175355001_KG', count=92), Row(value='20668578_EA', count=37), Row(value='20812144001_EA', count=31)]\n",
            "['20189092_EA', '20379763_EA', '20175355001_KG', '20668578_EA', '20812144001_EA']\n",
            "['Plastic Bags', 'Celebration Cupcakes White', 'Bananas Bunch', 'PENNY ROUNDING - DO NOT TOUCH', 'Grade A White Eggs Large']\n"
          ]
        }
      ]
    },
    {
      "cell_type": "code",
      "source": [
        "top_n_items_20801754003_C15 = find_top_n_co_purchase_product(df,'20801754003_C15')\n",
        "print(top_n_items_20801754003_C15)\n",
        "top_n_products_20801754003_C15 = lookup_product(prd_df,top_n_items_20801754003_C15)\n",
        "print(top_n_products_20801754003_C15)"
      ],
      "metadata": {
        "colab": {
          "base_uri": "https://localhost:8080/"
        },
        "id": "gJschCtuUoPt",
        "outputId": "c3bd2cf1-0e26-475e-a3e7-960423389b9b"
      },
      "execution_count": null,
      "outputs": [
        {
          "output_type": "stream",
          "name": "stdout",
          "text": [
            "[Row(value='20175355001_KG', count=188), Row(value='20801754001_C15', count=171), Row(value='20189092_EA', count=159), Row(value='20962518_EA', count=85), Row(value='20668578_EA', count=62)]\n",
            "['20175355001_KG', '20801754001_C15', '20189092_EA', '20962518_EA', '20668578_EA']\n",
            "['Bananas Bunch', 'Pepsi', 'Plastic Bags', 'Milk 2%', 'PENNY ROUNDING - DO NOT TOUCH']\n"
          ]
        }
      ]
    },
    {
      "cell_type": "markdown",
      "source": [
        "###build_submission_data \n",
        "This function helps with building the json response that needs to be posted to the iap service,"
      ],
      "metadata": {
        "id": "Htp_TUWy8zuN"
      }
    },
    {
      "cell_type": "code",
      "source": [
        "import json\n",
        "def build_submission_data():\n",
        "  data = {\"name\": \"Bhuvana Adur Kannan\",\"email\": \"bhuvana.adurkannan@gmail.com\",\"20592676_EA\": top_n_products_20592676_EA,\"20801754003_C15\": top_n_products_20801754003_C15}\n",
        "  return data\n"
      ],
      "metadata": {
        "id": "fXLG6xyQWbdm"
      },
      "execution_count": null,
      "outputs": []
    },
    {
      "cell_type": "markdown",
      "source": [
        "#Response submission using credentials provided\n",
        "This was little challenging to understand how Identity-Aware Proxy works and steps involved to use the given service account key file to generate signed credntial object which in turn used to obtain the identification token that is required to make a post request to Identity-Aware Proxy-protected URL \n",
        "\n",
        "The function \n",
        "####make_iap_request \n",
        "####get_google_open_id_connect_token \n",
        "were both referred from https://gist.github.com/JensRantil/a3cc32c80c3594844009c55ff9233591\n",
        "\n",
        "Minor modification made to the code to ignore credential refresh() and provide correct value for target_audience parameter so that the service_account_credentials obtained are valid.\n",
        "###Other References: \n",
        "\n",
        "https://blog.realkinetic.com/api-authentication-with-gcp-identity-aware-proxy-3a4147b30770\n",
        "https://engineering.wingify.com/posts/programmatic-authentication-under-iap/"
      ],
      "metadata": {
        "id": "lbsuWFrfVtdm"
      }
    },
    {
      "cell_type": "code",
      "source": [
        "! pip install requests_toolbelt"
      ],
      "metadata": {
        "colab": {
          "base_uri": "https://localhost:8080/"
        },
        "id": "7JXishhbVhAP",
        "outputId": "9b42364c-9d73-4746-c72a-632e0bb1020d"
      },
      "execution_count": null,
      "outputs": [
        {
          "output_type": "stream",
          "name": "stdout",
          "text": [
            "Looking in indexes: https://pypi.org/simple, https://us-python.pkg.dev/colab-wheels/public/simple/\n",
            "Collecting requests_toolbelt\n",
            "  Downloading requests_toolbelt-0.10.1-py2.py3-none-any.whl (54 kB)\n",
            "\u001b[2K     \u001b[90m━━━━━━━━━━━━━━━━━━━━━━━━━━━━━━━━━━━━━━━━\u001b[0m \u001b[32m54.5/54.5 KB\u001b[0m \u001b[31m6.2 MB/s\u001b[0m eta \u001b[36m0:00:00\u001b[0m\n",
            "\u001b[?25hRequirement already satisfied: requests<3.0.0,>=2.0.1 in /usr/local/lib/python3.8/dist-packages (from requests_toolbelt) (2.25.1)\n",
            "Requirement already satisfied: urllib3<1.27,>=1.21.1 in /usr/local/lib/python3.8/dist-packages (from requests<3.0.0,>=2.0.1->requests_toolbelt) (1.24.3)\n",
            "Requirement already satisfied: certifi>=2017.4.17 in /usr/local/lib/python3.8/dist-packages (from requests<3.0.0,>=2.0.1->requests_toolbelt) (2022.12.7)\n",
            "Requirement already satisfied: idna<3,>=2.5 in /usr/local/lib/python3.8/dist-packages (from requests<3.0.0,>=2.0.1->requests_toolbelt) (2.10)\n",
            "Requirement already satisfied: chardet<5,>=3.0.2 in /usr/local/lib/python3.8/dist-packages (from requests<3.0.0,>=2.0.1->requests_toolbelt) (4.0.0)\n",
            "Installing collected packages: requests_toolbelt\n",
            "Successfully installed requests_toolbelt-0.10.1\n"
          ]
        }
      ]
    },
    {
      "cell_type": "code",
      "source": [
        "# Copyright 2016 Google Inc. All Rights Reserved.\n",
        "#\n",
        "# Licensed under the Apache License, Version 2.0 (the \"License\");\n",
        "# you may not use this file except in compliance with the License.\n",
        "# You may obtain a copy of the License at\n",
        "#\n",
        "#      http://www.apache.org/licenses/LICENSE-2.0\n",
        "#\n",
        "# Unless required by applicable law or agreed to in writing, software\n",
        "# distributed under the License is distributed on an \"AS IS\" BASIS,\n",
        "# WITHOUT WARRANTIES OR CONDITIONS OF ANY KIND, either express or implied.\n",
        "# See the License for the specific language governing permissions and\n",
        "# limitations under the License.\n",
        "\n",
        "\"\"\"Example use of a service account to authenticate to Identity-Aware Proxy.\"\"\"\n",
        "\n",
        "# [START iap_make_request]\n",
        "import google.auth\n",
        "import google.auth.app_engine\n",
        "import google.auth.iam\n",
        "from google.auth.transport.requests import Request\n",
        "import google.oauth2.credentials\n",
        "import google.oauth2.service_account\n",
        "import requests\n",
        "import requests_toolbelt.adapters.appengine\n",
        "import json\n",
        "\n",
        "IAM_SCOPE = 'https://www.googleapis.com/auth/iam'\n",
        "OAUTH_TOKEN_URI = 'https://www.googleapis.com/oauth2/v4/token'\n",
        "#'https://oauth2.googleapis.com/token'\n",
        "\n",
        "\n",
        "def make_iap_request(url, client_id, result_data):\n",
        "    \"\"\"Makes a request to an application protected by Identity-Aware Proxy.\n",
        "    Args:\n",
        "      url: The Identity-Aware Proxy-protected URL to fetch.\n",
        "      client_id: The client ID used by Identity-Aware Proxy.\n",
        "    Returns:\n",
        "      The page body, or raises an exception if the page couldn't be retrieved.\n",
        "    \"\"\"\n",
        "    # Figure out what environment we're running in and get some preliminary\n",
        "    # information about the service account.\n",
        "    bootstrap_credentials = google.oauth2.service_account.Credentials.from_service_account_file('ld-ds-take-home-service-account.json')\n",
        "    print(bootstrap_credentials.signer)\n",
        "    if isinstance(bootstrap_credentials,\n",
        "                  google.oauth2.credentials.Credentials):\n",
        "        raise Exception('make_iap_request is only supported for service '\n",
        "                        'accounts.')\n",
        "    elif isinstance(bootstrap_credentials,\n",
        "                    google.auth.app_engine.Credentials):\n",
        "        requests_toolbelt.adapters.appengine.monkeypatch()\n",
        "\n",
        "    # For service account's using the Compute Engine metadata service,\n",
        "    # service_account_email isn't available until refresh is called.\n",
        "    # bootstrap_credentials.refresh(Request())\n",
        "\n",
        "    signer_email = bootstrap_credentials.service_account_email\n",
        "    print(f\"signer_email -> {signer_email}\")\n",
        "    if isinstance(bootstrap_credentials,\n",
        "                  google.auth.compute_engine.credentials.Credentials):\n",
        "        # Since the Compute Engine metadata service doesn't expose the service\n",
        "        # account key, we use the IAM signBlob API to sign instead.\n",
        "        # In order for this to work:\n",
        "        #\n",
        "        # 1. Your VM needs the https://www.googleapis.com/auth/iam scope.\n",
        "        #    You can specify this specific scope when creating a VM\n",
        "        #    through the API or gcloud. When using Cloud Console,\n",
        "        #    you'll need to specify the \"full access to all Cloud APIs\"\n",
        "        #    scope. A VM's scopes can only be specified at creation time.\n",
        "        #\n",
        "        # 2. The VM's default service account needs the \"Service Account Actor\"\n",
        "        #    role. This can be found under the \"Project\" category in Cloud\n",
        "        #    Console, or roles/iam.serviceAccountActor in gcloud.\n",
        "        signer = google.auth.iam.Signer(\n",
        "            Request(), bootstrap_credentials, signer_email)\n",
        "    else:\n",
        "        # A Signer object can sign a JWT using the service account's key.\n",
        "        signer = bootstrap_credentials.signer\n",
        "\n",
        "    # Construct OAuth 2.0 service account credentials using the signer\n",
        "    # and email acquired from the bootstrap credentials.\n",
        "    print(f\"signer -> {signer}\")\n",
        "    service_account_credentials = google.oauth2.service_account.Credentials(\n",
        "        signer, signer_email, token_uri=OAUTH_TOKEN_URI, additional_claims={\n",
        "            'target_audience': client_id\n",
        "        })\n",
        "\n",
        "\n",
        "    # service_account_credentials gives us a JWT signed by the service\n",
        "    # account. Next, we use that to obtain an OpenID Connect token,\n",
        "    # which is a JWT signed by Google.\n",
        "    \n",
        "    google_open_id_connect_token = get_google_open_id_connect_token(\n",
        "        service_account_credentials)\n",
        "    \n",
        "    # Fetch the Identity-Aware Proxy-protected URL, including an\n",
        "    # Authorization header containing \"Bearer \" followed by a\n",
        "    # Google-issued OpenID Connect token for the service account.\n",
        "    \n",
        "    headers = {'Authorization': 'Bearer {}'.format(google_open_id_connect_token)}\n",
        "    #print(f\"header: {headers}\")\n",
        "    \n",
        "    resp = requests.post(\n",
        "        url,\n",
        "        data=data,\n",
        "        headers=headers\n",
        "          )\n",
        "    \n",
        "    if resp.status_code == 403:\n",
        "        raise Exception('Service account {} does not have permission to '\n",
        "                        'access the IAP-protected application.'.format(\n",
        "                            signer_email))\n",
        "    elif resp.status_code != 200:\n",
        "        raise Exception(\n",
        "            'Bad response from application: {!r} / {!r} / {!r}'.format(\n",
        "                resp.status_code, resp.headers, resp.text))\n",
        "    else:\n",
        "        return resp.text\n"
      ],
      "metadata": {
        "id": "-fZwdSkPVqCW"
      },
      "execution_count": null,
      "outputs": []
    },
    {
      "cell_type": "code",
      "source": [
        "def get_google_open_id_connect_token(service_account_credentials):\n",
        "    \"\"\"Get an OpenID Connect token issued by Google for the service account.\n",
        "    This function:\n",
        "      1. Generates a JWT signed with the service account's private key\n",
        "         containing a special \"target_audience\" claim.\n",
        "      2. Sends it to the OAUTH_TOKEN_URI endpoint. Because the JWT in #1\n",
        "         has a target_audience claim, that endpoint will respond with\n",
        "         an OpenID Connect token for the service account -- in other words,\n",
        "         a JWT signed by *Google*. The aud claim in this JWT will be\n",
        "         set to the value from the target_audience claim in #1.\n",
        "    For more information, see\n",
        "    https://developers.google.com/identity/protocols/OAuth2ServiceAccount .\n",
        "    The HTTP/REST example on that page describes the JWT structure and\n",
        "    demonstrates how to call the token endpoint. (The example on that page\n",
        "    shows how to get an OAuth2 access token; this code is using a\n",
        "    modified version of it to get an OpenID Connect token.)\n",
        "    \"\"\"\n",
        "\n",
        "    service_account_jwt = (\n",
        "        service_account_credentials._make_authorization_grant_assertion())\n",
        "    request = google.auth.transport.requests.Request()\n",
        "    body = {\n",
        "        'assertion': service_account_jwt,\n",
        "        'grant_type': google.oauth2._client._JWT_GRANT_TYPE,\n",
        "    }\n",
        "    token_response = google.oauth2._client._token_endpoint_request(\n",
        "        request, OAUTH_TOKEN_URI, body)\n",
        "    #print(f\"token_response -> {token_response}\")\n",
        "    return token_response['id_token']\n",
        "\n",
        "# [END iap_make_request]"
      ],
      "metadata": {
        "id": "BLQVdI-DWCA1"
      },
      "execution_count": null,
      "outputs": []
    },
    {
      "cell_type": "markdown",
      "source": [
        "Below cell contains the code to submit answer to test submission service."
      ],
      "metadata": {
        "id": "GUKtSv1L_s9M"
      }
    },
    {
      "cell_type": "code",
      "source": [
        "client_id = '459957645727-m8ksvmqcp3sk4ok9cgh61u2q85knaqjg.apps.googleusercontent.com'\n",
        "#'107505745258773426561'\n",
        "url = 'https://ld-ds-take-home-test.appspot.com/submissions'\n",
        "data = build_submission_data()\n",
        "print(data)\n",
        "print(make_iap_request(url, client_id,data))"
      ],
      "metadata": {
        "colab": {
          "base_uri": "https://localhost:8080/"
        },
        "id": "A_-04zTOWGeD",
        "outputId": "bebc38ef-d1a7-4841-8479-dea9f8469ecc"
      },
      "execution_count": null,
      "outputs": [
        {
          "output_type": "stream",
          "name": "stdout",
          "text": [
            "{'name': 'Bhuvana Adur Kannan', 'email': 'bhuvana.adurkannan@gmail.com', '20592676_EA': ['Plastic Bags', 'Celebration Cupcakes White', 'Bananas Bunch', 'PENNY ROUNDING - DO NOT TOUCH', 'Grade A White Eggs Large'], '20801754003_C15': ['Bananas Bunch', 'Pepsi', 'Plastic Bags', 'Milk 2%', 'PENNY ROUNDING - DO NOT TOUCH']}\n",
            "<google.auth.crypt._python_rsa.RSASigner object at 0x7fbc37302b50>\n",
            "signer_email -> submission-account@ld-ds-take-home-test.iam.gserviceaccount.com\n",
            "signer -> <google.auth.crypt._python_rsa.RSASigner object at 0x7fbc37302b50>\n",
            "Response received for Bhuvana Adur Kannan (bhuvana.adurkannan@gmail.com) - thank you for taking the test!\n"
          ]
        }
      ]
    },
    {
      "cell_type": "markdown",
      "source": [
        "#Deploy and serve the algorithm\n",
        "In order to put this algorithm in use for other users/services to access, we can deploy this model as a web service and serve it using Flask. The rest service end point can be exposed to authenticated users."
      ],
      "metadata": {
        "id": "bpo5rOLCAJaR"
      }
    }
  ]
}